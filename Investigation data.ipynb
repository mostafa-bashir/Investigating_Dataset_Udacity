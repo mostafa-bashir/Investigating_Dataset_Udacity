{
 "cells": [
  {
   "cell_type": "code",
   "execution_count": 1,
   "id": "f87d5c6e",
   "metadata": {},
   "outputs": [],
   "source": [
    "import numpy as np\n",
    "import pandas as pd\n",
    "import matplotlib.pyplot as plt\n",
    "%matplotlib inline"
   ]
  },
  {
   "cell_type": "code",
   "execution_count": 2,
   "id": "dea244e1",
   "metadata": {},
   "outputs": [
    {
     "data": {
      "text/html": [
       "<div>\n",
       "<style scoped>\n",
       "    .dataframe tbody tr th:only-of-type {\n",
       "        vertical-align: middle;\n",
       "    }\n",
       "\n",
       "    .dataframe tbody tr th {\n",
       "        vertical-align: top;\n",
       "    }\n",
       "\n",
       "    .dataframe thead th {\n",
       "        text-align: right;\n",
       "    }\n",
       "</style>\n",
       "<table border=\"1\" class=\"dataframe\">\n",
       "  <thead>\n",
       "    <tr style=\"text-align: right;\">\n",
       "      <th></th>\n",
       "      <th>id</th>\n",
       "      <th>imdb_id</th>\n",
       "      <th>popularity</th>\n",
       "      <th>budget</th>\n",
       "      <th>revenue</th>\n",
       "      <th>original_title</th>\n",
       "      <th>cast</th>\n",
       "      <th>homepage</th>\n",
       "      <th>director</th>\n",
       "      <th>tagline</th>\n",
       "      <th>...</th>\n",
       "      <th>overview</th>\n",
       "      <th>runtime</th>\n",
       "      <th>genres</th>\n",
       "      <th>production_companies</th>\n",
       "      <th>release_date</th>\n",
       "      <th>vote_count</th>\n",
       "      <th>vote_average</th>\n",
       "      <th>release_year</th>\n",
       "      <th>budget_adj</th>\n",
       "      <th>revenue_adj</th>\n",
       "    </tr>\n",
       "  </thead>\n",
       "  <tbody>\n",
       "    <tr>\n",
       "      <th>10865</th>\n",
       "      <td>22293</td>\n",
       "      <td>tt0060666</td>\n",
       "      <td>0.035919</td>\n",
       "      <td>19000</td>\n",
       "      <td>0</td>\n",
       "      <td>Manos: The Hands of Fate</td>\n",
       "      <td>Harold P. Warren|Tom Neyman|John Reynolds|Dian...</td>\n",
       "      <td>NaN</td>\n",
       "      <td>Harold P. Warren</td>\n",
       "      <td>It's Shocking! It's Beyond Your Imagination!</td>\n",
       "      <td>...</td>\n",
       "      <td>A family gets lost on the road and stumbles up...</td>\n",
       "      <td>74</td>\n",
       "      <td>Horror</td>\n",
       "      <td>Norm-Iris</td>\n",
       "      <td>11/15/66</td>\n",
       "      <td>15</td>\n",
       "      <td>1.5</td>\n",
       "      <td>1966</td>\n",
       "      <td>127642.279154</td>\n",
       "      <td>0.0</td>\n",
       "    </tr>\n",
       "  </tbody>\n",
       "</table>\n",
       "<p>1 rows × 21 columns</p>\n",
       "</div>"
      ],
      "text/plain": [
       "          id    imdb_id  popularity  budget  revenue  \\\n",
       "10865  22293  tt0060666    0.035919   19000        0   \n",
       "\n",
       "                 original_title  \\\n",
       "10865  Manos: The Hands of Fate   \n",
       "\n",
       "                                                    cast homepage  \\\n",
       "10865  Harold P. Warren|Tom Neyman|John Reynolds|Dian...      NaN   \n",
       "\n",
       "               director                                       tagline  ...  \\\n",
       "10865  Harold P. Warren  It's Shocking! It's Beyond Your Imagination!  ...   \n",
       "\n",
       "                                                overview runtime  genres  \\\n",
       "10865  A family gets lost on the road and stumbles up...      74  Horror   \n",
       "\n",
       "      production_companies release_date vote_count  vote_average  \\\n",
       "10865            Norm-Iris     11/15/66         15           1.5   \n",
       "\n",
       "       release_year     budget_adj  revenue_adj  \n",
       "10865          1966  127642.279154          0.0  \n",
       "\n",
       "[1 rows x 21 columns]"
      ]
     },
     "execution_count": 2,
     "metadata": {},
     "output_type": "execute_result"
    }
   ],
   "source": [
    "df = pd.read_csv(\"tmdb-movies.csv\")\n",
    "df.columns\n",
    "df.tail()\n",
    "df[df.original_title== \"Manos: The Hands of Fate\"]"
   ]
  },
  {
   "cell_type": "code",
   "execution_count": 3,
   "id": "8dd07afd",
   "metadata": {},
   "outputs": [
    {
     "name": "stdout",
     "output_type": "stream",
     "text": [
      "<class 'pandas.core.frame.DataFrame'>\n",
      "RangeIndex: 10866 entries, 0 to 10865\n",
      "Data columns (total 21 columns):\n",
      " #   Column                Non-Null Count  Dtype  \n",
      "---  ------                --------------  -----  \n",
      " 0   id                    10866 non-null  int64  \n",
      " 1   imdb_id               10856 non-null  object \n",
      " 2   popularity            10866 non-null  float64\n",
      " 3   budget                10866 non-null  int64  \n",
      " 4   revenue               10866 non-null  int64  \n",
      " 5   original_title        10866 non-null  object \n",
      " 6   cast                  10790 non-null  object \n",
      " 7   homepage              2936 non-null   object \n",
      " 8   director              10822 non-null  object \n",
      " 9   tagline               8042 non-null   object \n",
      " 10  keywords              9373 non-null   object \n",
      " 11  overview              10862 non-null  object \n",
      " 12  runtime               10866 non-null  int64  \n",
      " 13  genres                10843 non-null  object \n",
      " 14  production_companies  9836 non-null   object \n",
      " 15  release_date          10866 non-null  object \n",
      " 16  vote_count            10866 non-null  int64  \n",
      " 17  vote_average          10866 non-null  float64\n",
      " 18  release_year          10866 non-null  int64  \n",
      " 19  budget_adj            10866 non-null  float64\n",
      " 20  revenue_adj           10866 non-null  float64\n",
      "dtypes: float64(4), int64(6), object(11)\n",
      "memory usage: 1.7+ MB\n"
     ]
    }
   ],
   "source": [
    "df.info()"
   ]
  },
  {
   "cell_type": "markdown",
   "id": "dc91dab1",
   "metadata": {},
   "source": [
    "# Droping usless columns"
   ]
  },
  {
   "cell_type": "code",
   "execution_count": 4,
   "id": "302d121d",
   "metadata": {},
   "outputs": [],
   "source": [
    "to_be_deleted = [\"homepage\", \"tagline\", \"overview\", 'id', 'imdb_id']\n",
    "\n",
    "for movie in to_be_deleted:\n",
    "    df.drop(columns=movie, axis = 1, inplace = True)"
   ]
  },
  {
   "cell_type": "code",
   "execution_count": 5,
   "id": "211fe4fe",
   "metadata": {},
   "outputs": [
    {
     "name": "stdout",
     "output_type": "stream",
     "text": [
      "<class 'pandas.core.frame.DataFrame'>\n",
      "RangeIndex: 10866 entries, 0 to 10865\n",
      "Data columns (total 16 columns):\n",
      " #   Column                Non-Null Count  Dtype  \n",
      "---  ------                --------------  -----  \n",
      " 0   popularity            10866 non-null  float64\n",
      " 1   budget                10866 non-null  int64  \n",
      " 2   revenue               10866 non-null  int64  \n",
      " 3   original_title        10866 non-null  object \n",
      " 4   cast                  10790 non-null  object \n",
      " 5   director              10822 non-null  object \n",
      " 6   keywords              9373 non-null   object \n",
      " 7   runtime               10866 non-null  int64  \n",
      " 8   genres                10843 non-null  object \n",
      " 9   production_companies  9836 non-null   object \n",
      " 10  release_date          10866 non-null  object \n",
      " 11  vote_count            10866 non-null  int64  \n",
      " 12  vote_average          10866 non-null  float64\n",
      " 13  release_year          10866 non-null  int64  \n",
      " 14  budget_adj            10866 non-null  float64\n",
      " 15  revenue_adj           10866 non-null  float64\n",
      "dtypes: float64(4), int64(5), object(7)\n",
      "memory usage: 1.3+ MB\n"
     ]
    }
   ],
   "source": [
    "df.info()"
   ]
  },
  {
   "cell_type": "markdown",
   "id": "ecf9c7e3",
   "metadata": {},
   "source": [
    "# Making all the missed values with \"UNKNOWN\" value as all of the missed data are strings  "
   ]
  },
  {
   "cell_type": "code",
   "execution_count": 6,
   "id": "f935aeeb",
   "metadata": {},
   "outputs": [],
   "source": [
    "df.fillna(\"UNKOWN\", inplace = True)"
   ]
  },
  {
   "cell_type": "code",
   "execution_count": 7,
   "id": "143889cf",
   "metadata": {},
   "outputs": [
    {
     "name": "stdout",
     "output_type": "stream",
     "text": [
      "<class 'pandas.core.frame.DataFrame'>\n",
      "RangeIndex: 10866 entries, 0 to 10865\n",
      "Data columns (total 16 columns):\n",
      " #   Column                Non-Null Count  Dtype  \n",
      "---  ------                --------------  -----  \n",
      " 0   popularity            10866 non-null  float64\n",
      " 1   budget                10866 non-null  int64  \n",
      " 2   revenue               10866 non-null  int64  \n",
      " 3   original_title        10866 non-null  object \n",
      " 4   cast                  10866 non-null  object \n",
      " 5   director              10866 non-null  object \n",
      " 6   keywords              10866 non-null  object \n",
      " 7   runtime               10866 non-null  int64  \n",
      " 8   genres                10866 non-null  object \n",
      " 9   production_companies  10866 non-null  object \n",
      " 10  release_date          10866 non-null  object \n",
      " 11  vote_count            10866 non-null  int64  \n",
      " 12  vote_average          10866 non-null  float64\n",
      " 13  release_year          10866 non-null  int64  \n",
      " 14  budget_adj            10866 non-null  float64\n",
      " 15  revenue_adj           10866 non-null  float64\n",
      "dtypes: float64(4), int64(5), object(7)\n",
      "memory usage: 1.3+ MB\n"
     ]
    }
   ],
   "source": [
    "df.info()"
   ]
  },
  {
   "cell_type": "markdown",
   "id": "f62765ba",
   "metadata": {},
   "source": [
    "# Change release_date type from string to timestamp by converting release_year to string to get the accurate year of the date and use to_datetime() function"
   ]
  },
  {
   "cell_type": "code",
   "execution_count": 8,
   "id": "926e015c",
   "metadata": {},
   "outputs": [
    {
     "data": {
      "text/plain": [
       "dtype('O')"
      ]
     },
     "execution_count": 8,
     "metadata": {},
     "output_type": "execute_result"
    }
   ],
   "source": [
    "df.release_date.dtypes\n",
    "df.release_year = df.release_year.astype(str)\n",
    "df.release_year.dtypes"
   ]
  },
  {
   "cell_type": "code",
   "execution_count": 9,
   "id": "2782861c",
   "metadata": {},
   "outputs": [
    {
     "name": "stderr",
     "output_type": "stream",
     "text": [
      "<ipython-input-9-d96776aadaf2>:3: SettingWithCopyWarning: \n",
      "A value is trying to be set on a copy of a slice from a DataFrame\n",
      "\n",
      "See the caveats in the documentation: https://pandas.pydata.org/pandas-docs/stable/user_guide/indexing.html#returning-a-view-versus-a-copy\n",
      "  df.release_date[i] = df.release_date[i][:-2] + str(df.release_year[i])\n"
     ]
    },
    {
     "data": {
      "text/html": [
       "<div>\n",
       "<style scoped>\n",
       "    .dataframe tbody tr th:only-of-type {\n",
       "        vertical-align: middle;\n",
       "    }\n",
       "\n",
       "    .dataframe tbody tr th {\n",
       "        vertical-align: top;\n",
       "    }\n",
       "\n",
       "    .dataframe thead th {\n",
       "        text-align: right;\n",
       "    }\n",
       "</style>\n",
       "<table border=\"1\" class=\"dataframe\">\n",
       "  <thead>\n",
       "    <tr style=\"text-align: right;\">\n",
       "      <th></th>\n",
       "      <th>popularity</th>\n",
       "      <th>budget</th>\n",
       "      <th>revenue</th>\n",
       "      <th>original_title</th>\n",
       "      <th>cast</th>\n",
       "      <th>director</th>\n",
       "      <th>keywords</th>\n",
       "      <th>runtime</th>\n",
       "      <th>genres</th>\n",
       "      <th>production_companies</th>\n",
       "      <th>release_date</th>\n",
       "      <th>vote_count</th>\n",
       "      <th>vote_average</th>\n",
       "      <th>release_year</th>\n",
       "      <th>budget_adj</th>\n",
       "      <th>revenue_adj</th>\n",
       "    </tr>\n",
       "  </thead>\n",
       "  <tbody>\n",
       "    <tr>\n",
       "      <th>10861</th>\n",
       "      <td>0.080598</td>\n",
       "      <td>0</td>\n",
       "      <td>0</td>\n",
       "      <td>The Endless Summer</td>\n",
       "      <td>Michael Hynson|Robert August|Lord 'Tally Ho' B...</td>\n",
       "      <td>Bruce Brown</td>\n",
       "      <td>surfer|surfboard|surfing</td>\n",
       "      <td>95</td>\n",
       "      <td>Documentary</td>\n",
       "      <td>Bruce Brown Films</td>\n",
       "      <td>1966-06-15</td>\n",
       "      <td>11</td>\n",
       "      <td>7.4</td>\n",
       "      <td>1966</td>\n",
       "      <td>0.000000</td>\n",
       "      <td>0.0</td>\n",
       "    </tr>\n",
       "    <tr>\n",
       "      <th>10862</th>\n",
       "      <td>0.065543</td>\n",
       "      <td>0</td>\n",
       "      <td>0</td>\n",
       "      <td>Grand Prix</td>\n",
       "      <td>James Garner|Eva Marie Saint|Yves Montand|Tosh...</td>\n",
       "      <td>John Frankenheimer</td>\n",
       "      <td>car race|racing|formula 1</td>\n",
       "      <td>176</td>\n",
       "      <td>Action|Adventure|Drama</td>\n",
       "      <td>Cherokee Productions|Joel Productions|Douglas ...</td>\n",
       "      <td>1966-12-21</td>\n",
       "      <td>20</td>\n",
       "      <td>5.7</td>\n",
       "      <td>1966</td>\n",
       "      <td>0.000000</td>\n",
       "      <td>0.0</td>\n",
       "    </tr>\n",
       "    <tr>\n",
       "      <th>10863</th>\n",
       "      <td>0.065141</td>\n",
       "      <td>0</td>\n",
       "      <td>0</td>\n",
       "      <td>Beregis Avtomobilya</td>\n",
       "      <td>Innokentiy Smoktunovskiy|Oleg Efremov|Georgi Z...</td>\n",
       "      <td>Eldar Ryazanov</td>\n",
       "      <td>car|trolley|stealing car</td>\n",
       "      <td>94</td>\n",
       "      <td>Mystery|Comedy</td>\n",
       "      <td>Mosfilm</td>\n",
       "      <td>1966-01-01</td>\n",
       "      <td>11</td>\n",
       "      <td>6.5</td>\n",
       "      <td>1966</td>\n",
       "      <td>0.000000</td>\n",
       "      <td>0.0</td>\n",
       "    </tr>\n",
       "    <tr>\n",
       "      <th>10864</th>\n",
       "      <td>0.064317</td>\n",
       "      <td>0</td>\n",
       "      <td>0</td>\n",
       "      <td>What's Up, Tiger Lily?</td>\n",
       "      <td>Tatsuya Mihashi|Akiko Wakabayashi|Mie Hama|Joh...</td>\n",
       "      <td>Woody Allen</td>\n",
       "      <td>spoof</td>\n",
       "      <td>80</td>\n",
       "      <td>Action|Comedy</td>\n",
       "      <td>Benedict Pictures Corp.</td>\n",
       "      <td>1966-11-02</td>\n",
       "      <td>22</td>\n",
       "      <td>5.4</td>\n",
       "      <td>1966</td>\n",
       "      <td>0.000000</td>\n",
       "      <td>0.0</td>\n",
       "    </tr>\n",
       "    <tr>\n",
       "      <th>10865</th>\n",
       "      <td>0.035919</td>\n",
       "      <td>19000</td>\n",
       "      <td>0</td>\n",
       "      <td>Manos: The Hands of Fate</td>\n",
       "      <td>Harold P. Warren|Tom Neyman|John Reynolds|Dian...</td>\n",
       "      <td>Harold P. Warren</td>\n",
       "      <td>fire|gun|drive|sacrifice|flashlight</td>\n",
       "      <td>74</td>\n",
       "      <td>Horror</td>\n",
       "      <td>Norm-Iris</td>\n",
       "      <td>1966-11-15</td>\n",
       "      <td>15</td>\n",
       "      <td>1.5</td>\n",
       "      <td>1966</td>\n",
       "      <td>127642.279154</td>\n",
       "      <td>0.0</td>\n",
       "    </tr>\n",
       "  </tbody>\n",
       "</table>\n",
       "</div>"
      ],
      "text/plain": [
       "       popularity  budget  revenue            original_title  \\\n",
       "10861    0.080598       0        0        The Endless Summer   \n",
       "10862    0.065543       0        0                Grand Prix   \n",
       "10863    0.065141       0        0       Beregis Avtomobilya   \n",
       "10864    0.064317       0        0    What's Up, Tiger Lily?   \n",
       "10865    0.035919   19000        0  Manos: The Hands of Fate   \n",
       "\n",
       "                                                    cast            director  \\\n",
       "10861  Michael Hynson|Robert August|Lord 'Tally Ho' B...         Bruce Brown   \n",
       "10862  James Garner|Eva Marie Saint|Yves Montand|Tosh...  John Frankenheimer   \n",
       "10863  Innokentiy Smoktunovskiy|Oleg Efremov|Georgi Z...      Eldar Ryazanov   \n",
       "10864  Tatsuya Mihashi|Akiko Wakabayashi|Mie Hama|Joh...         Woody Allen   \n",
       "10865  Harold P. Warren|Tom Neyman|John Reynolds|Dian...    Harold P. Warren   \n",
       "\n",
       "                                  keywords  runtime                  genres  \\\n",
       "10861             surfer|surfboard|surfing       95             Documentary   \n",
       "10862            car race|racing|formula 1      176  Action|Adventure|Drama   \n",
       "10863             car|trolley|stealing car       94          Mystery|Comedy   \n",
       "10864                                spoof       80           Action|Comedy   \n",
       "10865  fire|gun|drive|sacrifice|flashlight       74                  Horror   \n",
       "\n",
       "                                    production_companies release_date  \\\n",
       "10861                                  Bruce Brown Films   1966-06-15   \n",
       "10862  Cherokee Productions|Joel Productions|Douglas ...   1966-12-21   \n",
       "10863                                            Mosfilm   1966-01-01   \n",
       "10864                            Benedict Pictures Corp.   1966-11-02   \n",
       "10865                                          Norm-Iris   1966-11-15   \n",
       "\n",
       "       vote_count  vote_average release_year     budget_adj  revenue_adj  \n",
       "10861          11           7.4         1966       0.000000          0.0  \n",
       "10862          20           5.7         1966       0.000000          0.0  \n",
       "10863          11           6.5         1966       0.000000          0.0  \n",
       "10864          22           5.4         1966       0.000000          0.0  \n",
       "10865          15           1.5         1966  127642.279154          0.0  "
      ]
     },
     "execution_count": 9,
     "metadata": {},
     "output_type": "execute_result"
    }
   ],
   "source": [
    "#df.release_year.astype(str)\n",
    "for i in range(10866):\n",
    "    df.release_date[i] = df.release_date[i][:-2] + str(df.release_year[i])\n",
    "    \n",
    "df.release_date = pd.to_datetime(df.release_date)\n",
    "df.tail()"
   ]
  },
  {
   "cell_type": "code",
   "execution_count": 10,
   "id": "342362cb",
   "metadata": {},
   "outputs": [
    {
     "name": "stdout",
     "output_type": "stream",
     "text": [
      "0   2015-06-09\n",
      "1   2015-05-13\n",
      "Name: release_date, dtype: datetime64[ns]\n",
      "datetime64[ns]\n"
     ]
    }
   ],
   "source": [
    "print(df.release_date.head(2))\n",
    "print(df.release_date.dtypes)"
   ]
  },
  {
   "cell_type": "markdown",
   "id": "58abb02a",
   "metadata": {},
   "source": [
    "# Getting the oldest movie"
   ]
  },
  {
   "cell_type": "code",
   "execution_count": 11,
   "id": "d070aceb",
   "metadata": {},
   "outputs": [
    {
     "data": {
      "text/plain": [
       "Timestamp('1960-01-01 00:00:00')"
      ]
     },
     "execution_count": 11,
     "metadata": {},
     "output_type": "execute_result"
    }
   ],
   "source": [
    "oldest_movie_date = df.release_date.min()\n",
    "oldest_movie_date"
   ]
  },
  {
   "cell_type": "code",
   "execution_count": 12,
   "id": "cd66f123",
   "metadata": {},
   "outputs": [
    {
     "data": {
      "text/plain": [
       "10150           The Unforgiven\n",
       "10152    The Brides of Dracula\n",
       "Name: original_title, dtype: object"
      ]
     },
     "execution_count": 12,
     "metadata": {},
     "output_type": "execute_result"
    }
   ],
   "source": [
    "df[df.release_date == oldest_movie_date].original_title"
   ]
  },
  {
   "cell_type": "markdown",
   "id": "8d93ee7c",
   "metadata": {},
   "source": [
    "# The oldest two movies produced in 1960 were: \n",
    "    1- The Unforgiven\n",
    "    2- The Brides of Dracula"
   ]
  },
  {
   "cell_type": "code",
   "execution_count": null,
   "id": "81cdbe1a",
   "metadata": {},
   "outputs": [],
   "source": []
  },
  {
   "cell_type": "markdown",
   "id": "3539fc90",
   "metadata": {},
   "source": [
    "# Getting the newest movie"
   ]
  },
  {
   "cell_type": "code",
   "execution_count": 13,
   "id": "a4957b7f",
   "metadata": {},
   "outputs": [
    {
     "data": {
      "text/plain": [
       "Timestamp('2015-12-31 00:00:00')"
      ]
     },
     "execution_count": 13,
     "metadata": {},
     "output_type": "execute_result"
    }
   ],
   "source": [
    "newest_movie_date = df.release_date.max()\n",
    "newest_movie_date"
   ]
  },
  {
   "cell_type": "code",
   "execution_count": 14,
   "id": "2e9505fb",
   "metadata": {},
   "outputs": [
    {
     "data": {
      "text/plain": [
       "190    Open Season: Scared Silly\n",
       "322                      Martyrs\n",
       "Name: original_title, dtype: object"
      ]
     },
     "execution_count": 14,
     "metadata": {},
     "output_type": "execute_result"
    }
   ],
   "source": [
    "df[df.release_date == newest_movie_date].original_title"
   ]
  },
  {
   "cell_type": "markdown",
   "id": "e3c5f05f",
   "metadata": {},
   "source": [
    "The newest two movies produced in 2015 were:\n",
    "    1- Open Season: Scared Silly\n",
    "    2- Martyrs"
   ]
  },
  {
   "cell_type": "code",
   "execution_count": null,
   "id": "037bd6a3",
   "metadata": {},
   "outputs": [],
   "source": []
  },
  {
   "cell_type": "markdown",
   "id": "572d2655",
   "metadata": {},
   "source": [
    "# The most popular movie"
   ]
  },
  {
   "cell_type": "code",
   "execution_count": 15,
   "id": "688eac4a",
   "metadata": {},
   "outputs": [],
   "source": [
    "most_pop_idx = df.popularity.idxmax()"
   ]
  },
  {
   "cell_type": "code",
   "execution_count": 16,
   "id": "d75e4910",
   "metadata": {},
   "outputs": [
    {
     "data": {
      "text/plain": [
       "'Jurassic World'"
      ]
     },
     "execution_count": 16,
     "metadata": {},
     "output_type": "execute_result"
    }
   ],
   "source": [
    "df.iloc[most_pop_idx].original_title"
   ]
  },
  {
   "cell_type": "markdown",
   "id": "3a1b3f73",
   "metadata": {},
   "source": [
    "The most popular movie is \"Jurassic World\", produced by: Universal Studios - Amblin Entertainment - Legendary Pictures - Fuji Television Network - Dentsu, directed by: Colin Trevorrow"
   ]
  },
  {
   "cell_type": "code",
   "execution_count": null,
   "id": "bd1ff8ca",
   "metadata": {},
   "outputs": [],
   "source": []
  },
  {
   "cell_type": "markdown",
   "id": "7d726b93",
   "metadata": {},
   "source": [
    "# The least popular movie"
   ]
  },
  {
   "cell_type": "code",
   "execution_count": 17,
   "id": "fc161220",
   "metadata": {},
   "outputs": [],
   "source": [
    "least_pop_idx = df.popularity.idxmin()"
   ]
  },
  {
   "cell_type": "code",
   "execution_count": 18,
   "id": "7cd615e3",
   "metadata": {},
   "outputs": [
    {
     "data": {
      "text/plain": [
       "'North and South, Book I'"
      ]
     },
     "execution_count": 18,
     "metadata": {},
     "output_type": "execute_result"
    }
   ],
   "source": [
    "df.iloc[least_pop_idx].original_title"
   ]
  },
  {
   "cell_type": "markdown",
   "id": "3c2a3364",
   "metadata": {},
   "source": [
    "The least popular movie is \"North and South, Book I\", Produced by: UNKNOWN company, directed by: UNKNOWN person"
   ]
  },
  {
   "cell_type": "code",
   "execution_count": null,
   "id": "f542f916",
   "metadata": {},
   "outputs": [],
   "source": []
  },
  {
   "cell_type": "code",
   "execution_count": null,
   "id": "40b133dd",
   "metadata": {},
   "outputs": [],
   "source": []
  },
  {
   "cell_type": "markdown",
   "id": "0765a1d5",
   "metadata": {},
   "source": [
    "# Setting up revenues and budgets for each movie before and after 2010"
   ]
  },
  {
   "cell_type": "code",
   "execution_count": 19,
   "id": "813b3197",
   "metadata": {},
   "outputs": [
    {
     "data": {
      "text/html": [
       "<div>\n",
       "<style scoped>\n",
       "    .dataframe tbody tr th:only-of-type {\n",
       "        vertical-align: middle;\n",
       "    }\n",
       "\n",
       "    .dataframe tbody tr th {\n",
       "        vertical-align: top;\n",
       "    }\n",
       "\n",
       "    .dataframe thead th {\n",
       "        text-align: right;\n",
       "    }\n",
       "</style>\n",
       "<table border=\"1\" class=\"dataframe\">\n",
       "  <thead>\n",
       "    <tr style=\"text-align: right;\">\n",
       "      <th></th>\n",
       "      <th>popularity</th>\n",
       "      <th>budget</th>\n",
       "      <th>revenue</th>\n",
       "      <th>original_title</th>\n",
       "      <th>cast</th>\n",
       "      <th>director</th>\n",
       "      <th>keywords</th>\n",
       "      <th>runtime</th>\n",
       "      <th>genres</th>\n",
       "      <th>production_companies</th>\n",
       "      <th>release_date</th>\n",
       "      <th>vote_count</th>\n",
       "      <th>vote_average</th>\n",
       "      <th>release_year</th>\n",
       "      <th>budget_adj</th>\n",
       "      <th>revenue_adj</th>\n",
       "    </tr>\n",
       "  </thead>\n",
       "  <tbody>\n",
       "    <tr>\n",
       "      <th>1329</th>\n",
       "      <td>12.037933</td>\n",
       "      <td>11000000</td>\n",
       "      <td>775398007</td>\n",
       "      <td>Star Wars</td>\n",
       "      <td>Mark Hamill|Harrison Ford|Carrie Fisher|Peter ...</td>\n",
       "      <td>George Lucas</td>\n",
       "      <td>android|galaxy|hermit|death star|lightsaber</td>\n",
       "      <td>121</td>\n",
       "      <td>Adventure|Action|Science Fiction</td>\n",
       "      <td>Lucasfilm|Twentieth Century Fox Film Corporation</td>\n",
       "      <td>1977-03-20</td>\n",
       "      <td>4428</td>\n",
       "      <td>7.9</td>\n",
       "      <td>1977</td>\n",
       "      <td>3.957559e+07</td>\n",
       "      <td>2.789712e+09</td>\n",
       "    </tr>\n",
       "    <tr>\n",
       "      <th>1330</th>\n",
       "      <td>2.379469</td>\n",
       "      <td>14000000</td>\n",
       "      <td>185438673</td>\n",
       "      <td>The Spy Who Loved Me</td>\n",
       "      <td>Roger Moore|Barbara Bach|Curd JÃ¼rgens|Richard...</td>\n",
       "      <td>Lewis Gilbert</td>\n",
       "      <td>london|submarine|england|assassination|spy</td>\n",
       "      <td>125</td>\n",
       "      <td>Adventure|Action|Thriller</td>\n",
       "      <td>Eon Productions|Metro-Goldwyn-Mayer (MGM)|Danjaq</td>\n",
       "      <td>1977-07-07</td>\n",
       "      <td>279</td>\n",
       "      <td>6.2</td>\n",
       "      <td>1977</td>\n",
       "      <td>5.036893e+07</td>\n",
       "      <td>6.671677e+08</td>\n",
       "    </tr>\n",
       "    <tr>\n",
       "      <th>1331</th>\n",
       "      <td>1.719385</td>\n",
       "      <td>1200000</td>\n",
       "      <td>71215869</td>\n",
       "      <td>The Rescuers</td>\n",
       "      <td>Bob Newhart|Eva Gabor|Geraldine Page|Joe Flynn...</td>\n",
       "      <td>John Lounsbery|Wolfgang Reitherman|Art Stevens</td>\n",
       "      <td>mouse|baby-snatching|bottle|albatros|rescue</td>\n",
       "      <td>78</td>\n",
       "      <td>Fantasy|Family|Animation|Adventure</td>\n",
       "      <td>Walt Disney Productions</td>\n",
       "      <td>1977-06-22</td>\n",
       "      <td>332</td>\n",
       "      <td>6.6</td>\n",
       "      <td>1977</td>\n",
       "      <td>4.317337e+06</td>\n",
       "      <td>2.562191e+08</td>\n",
       "    </tr>\n",
       "    <tr>\n",
       "      <th>1332</th>\n",
       "      <td>1.179653</td>\n",
       "      <td>4000000</td>\n",
       "      <td>38251425</td>\n",
       "      <td>Annie Hall</td>\n",
       "      <td>Woody Allen|Diane Keaton|Tony Roberts|Carol Ka...</td>\n",
       "      <td>Woody Allen</td>\n",
       "      <td>neurosis|comedian|job interview|love|singer</td>\n",
       "      <td>93</td>\n",
       "      <td>Comedy|Drama|Romance</td>\n",
       "      <td>United Artists</td>\n",
       "      <td>1977-04-19</td>\n",
       "      <td>493</td>\n",
       "      <td>7.6</td>\n",
       "      <td>1977</td>\n",
       "      <td>1.439112e+07</td>\n",
       "      <td>1.376203e+08</td>\n",
       "    </tr>\n",
       "    <tr>\n",
       "      <th>1333</th>\n",
       "      <td>1.104997</td>\n",
       "      <td>10000000</td>\n",
       "      <td>0</td>\n",
       "      <td>Pete's Dragon</td>\n",
       "      <td>Sean Marshall|Helen Reddy|Mickey Rooney|Red Bu...</td>\n",
       "      <td>Don Chaffey</td>\n",
       "      <td>farm|friendship|part live action|escape|dragon</td>\n",
       "      <td>128</td>\n",
       "      <td>Fantasy|Animation|Comedy|Family</td>\n",
       "      <td>Walt Disney Productions</td>\n",
       "      <td>1977-11-03</td>\n",
       "      <td>113</td>\n",
       "      <td>6.4</td>\n",
       "      <td>1977</td>\n",
       "      <td>3.597781e+07</td>\n",
       "      <td>0.000000e+00</td>\n",
       "    </tr>\n",
       "  </tbody>\n",
       "</table>\n",
       "</div>"
      ],
      "text/plain": [
       "      popularity    budget    revenue        original_title  \\\n",
       "1329   12.037933  11000000  775398007             Star Wars   \n",
       "1330    2.379469  14000000  185438673  The Spy Who Loved Me   \n",
       "1331    1.719385   1200000   71215869          The Rescuers   \n",
       "1332    1.179653   4000000   38251425            Annie Hall   \n",
       "1333    1.104997  10000000          0         Pete's Dragon   \n",
       "\n",
       "                                                   cast  \\\n",
       "1329  Mark Hamill|Harrison Ford|Carrie Fisher|Peter ...   \n",
       "1330  Roger Moore|Barbara Bach|Curd JÃ¼rgens|Richard...   \n",
       "1331  Bob Newhart|Eva Gabor|Geraldine Page|Joe Flynn...   \n",
       "1332  Woody Allen|Diane Keaton|Tony Roberts|Carol Ka...   \n",
       "1333  Sean Marshall|Helen Reddy|Mickey Rooney|Red Bu...   \n",
       "\n",
       "                                            director  \\\n",
       "1329                                    George Lucas   \n",
       "1330                                   Lewis Gilbert   \n",
       "1331  John Lounsbery|Wolfgang Reitherman|Art Stevens   \n",
       "1332                                     Woody Allen   \n",
       "1333                                     Don Chaffey   \n",
       "\n",
       "                                            keywords  runtime  \\\n",
       "1329     android|galaxy|hermit|death star|lightsaber      121   \n",
       "1330      london|submarine|england|assassination|spy      125   \n",
       "1331     mouse|baby-snatching|bottle|albatros|rescue       78   \n",
       "1332     neurosis|comedian|job interview|love|singer       93   \n",
       "1333  farm|friendship|part live action|escape|dragon      128   \n",
       "\n",
       "                                  genres  \\\n",
       "1329    Adventure|Action|Science Fiction   \n",
       "1330           Adventure|Action|Thriller   \n",
       "1331  Fantasy|Family|Animation|Adventure   \n",
       "1332                Comedy|Drama|Romance   \n",
       "1333     Fantasy|Animation|Comedy|Family   \n",
       "\n",
       "                                  production_companies release_date  \\\n",
       "1329  Lucasfilm|Twentieth Century Fox Film Corporation   1977-03-20   \n",
       "1330  Eon Productions|Metro-Goldwyn-Mayer (MGM)|Danjaq   1977-07-07   \n",
       "1331                           Walt Disney Productions   1977-06-22   \n",
       "1332                                    United Artists   1977-04-19   \n",
       "1333                           Walt Disney Productions   1977-11-03   \n",
       "\n",
       "      vote_count  vote_average release_year    budget_adj   revenue_adj  \n",
       "1329        4428           7.9         1977  3.957559e+07  2.789712e+09  \n",
       "1330         279           6.2         1977  5.036893e+07  6.671677e+08  \n",
       "1331         332           6.6         1977  4.317337e+06  2.562191e+08  \n",
       "1332         493           7.6         1977  1.439112e+07  1.376203e+08  \n",
       "1333         113           6.4         1977  3.597781e+07  0.000000e+00  "
      ]
     },
     "execution_count": 19,
     "metadata": {},
     "output_type": "execute_result"
    }
   ],
   "source": [
    "df_before_2010 = df.copy()\n",
    "df_before_2010.drop(df_before_2010[df_before_2010.release_year >= \"2010\"].index, inplace=True)\n",
    "df_before_2010.head()"
   ]
  },
  {
   "cell_type": "code",
   "execution_count": 20,
   "id": "37f4a5be",
   "metadata": {},
   "outputs": [
    {
     "data": {
      "text/html": [
       "<div>\n",
       "<style scoped>\n",
       "    .dataframe tbody tr th:only-of-type {\n",
       "        vertical-align: middle;\n",
       "    }\n",
       "\n",
       "    .dataframe tbody tr th {\n",
       "        vertical-align: top;\n",
       "    }\n",
       "\n",
       "    .dataframe thead th {\n",
       "        text-align: right;\n",
       "    }\n",
       "</style>\n",
       "<table border=\"1\" class=\"dataframe\">\n",
       "  <thead>\n",
       "    <tr style=\"text-align: right;\">\n",
       "      <th></th>\n",
       "      <th>popularity</th>\n",
       "      <th>budget</th>\n",
       "      <th>revenue</th>\n",
       "      <th>original_title</th>\n",
       "      <th>cast</th>\n",
       "      <th>director</th>\n",
       "      <th>keywords</th>\n",
       "      <th>runtime</th>\n",
       "      <th>genres</th>\n",
       "      <th>production_companies</th>\n",
       "      <th>release_date</th>\n",
       "      <th>vote_count</th>\n",
       "      <th>vote_average</th>\n",
       "      <th>release_year</th>\n",
       "      <th>budget_adj</th>\n",
       "      <th>revenue_adj</th>\n",
       "    </tr>\n",
       "  </thead>\n",
       "  <tbody>\n",
       "    <tr>\n",
       "      <th>0</th>\n",
       "      <td>32.985763</td>\n",
       "      <td>150000000</td>\n",
       "      <td>1513528810</td>\n",
       "      <td>Jurassic World</td>\n",
       "      <td>Chris Pratt|Bryce Dallas Howard|Irrfan Khan|Vi...</td>\n",
       "      <td>Colin Trevorrow</td>\n",
       "      <td>monster|dna|tyrannosaurus rex|velociraptor|island</td>\n",
       "      <td>124</td>\n",
       "      <td>Action|Adventure|Science Fiction|Thriller</td>\n",
       "      <td>Universal Studios|Amblin Entertainment|Legenda...</td>\n",
       "      <td>2015-06-09</td>\n",
       "      <td>5562</td>\n",
       "      <td>6.5</td>\n",
       "      <td>2015</td>\n",
       "      <td>1.379999e+08</td>\n",
       "      <td>1.392446e+09</td>\n",
       "    </tr>\n",
       "    <tr>\n",
       "      <th>1</th>\n",
       "      <td>28.419936</td>\n",
       "      <td>150000000</td>\n",
       "      <td>378436354</td>\n",
       "      <td>Mad Max: Fury Road</td>\n",
       "      <td>Tom Hardy|Charlize Theron|Hugh Keays-Byrne|Nic...</td>\n",
       "      <td>George Miller</td>\n",
       "      <td>future|chase|post-apocalyptic|dystopia|australia</td>\n",
       "      <td>120</td>\n",
       "      <td>Action|Adventure|Science Fiction|Thriller</td>\n",
       "      <td>Village Roadshow Pictures|Kennedy Miller Produ...</td>\n",
       "      <td>2015-05-13</td>\n",
       "      <td>6185</td>\n",
       "      <td>7.1</td>\n",
       "      <td>2015</td>\n",
       "      <td>1.379999e+08</td>\n",
       "      <td>3.481613e+08</td>\n",
       "    </tr>\n",
       "    <tr>\n",
       "      <th>2</th>\n",
       "      <td>13.112507</td>\n",
       "      <td>110000000</td>\n",
       "      <td>295238201</td>\n",
       "      <td>Insurgent</td>\n",
       "      <td>Shailene Woodley|Theo James|Kate Winslet|Ansel...</td>\n",
       "      <td>Robert Schwentke</td>\n",
       "      <td>based on novel|revolution|dystopia|sequel|dyst...</td>\n",
       "      <td>119</td>\n",
       "      <td>Adventure|Science Fiction|Thriller</td>\n",
       "      <td>Summit Entertainment|Mandeville Films|Red Wago...</td>\n",
       "      <td>2015-03-18</td>\n",
       "      <td>2480</td>\n",
       "      <td>6.3</td>\n",
       "      <td>2015</td>\n",
       "      <td>1.012000e+08</td>\n",
       "      <td>2.716190e+08</td>\n",
       "    </tr>\n",
       "    <tr>\n",
       "      <th>3</th>\n",
       "      <td>11.173104</td>\n",
       "      <td>200000000</td>\n",
       "      <td>2068178225</td>\n",
       "      <td>Star Wars: The Force Awakens</td>\n",
       "      <td>Harrison Ford|Mark Hamill|Carrie Fisher|Adam D...</td>\n",
       "      <td>J.J. Abrams</td>\n",
       "      <td>android|spaceship|jedi|space opera|3d</td>\n",
       "      <td>136</td>\n",
       "      <td>Action|Adventure|Science Fiction|Fantasy</td>\n",
       "      <td>Lucasfilm|Truenorth Productions|Bad Robot</td>\n",
       "      <td>2015-12-15</td>\n",
       "      <td>5292</td>\n",
       "      <td>7.5</td>\n",
       "      <td>2015</td>\n",
       "      <td>1.839999e+08</td>\n",
       "      <td>1.902723e+09</td>\n",
       "    </tr>\n",
       "    <tr>\n",
       "      <th>4</th>\n",
       "      <td>9.335014</td>\n",
       "      <td>190000000</td>\n",
       "      <td>1506249360</td>\n",
       "      <td>Furious 7</td>\n",
       "      <td>Vin Diesel|Paul Walker|Jason Statham|Michelle ...</td>\n",
       "      <td>James Wan</td>\n",
       "      <td>car race|speed|revenge|suspense|car</td>\n",
       "      <td>137</td>\n",
       "      <td>Action|Crime|Thriller</td>\n",
       "      <td>Universal Pictures|Original Film|Media Rights ...</td>\n",
       "      <td>2015-04-01</td>\n",
       "      <td>2947</td>\n",
       "      <td>7.3</td>\n",
       "      <td>2015</td>\n",
       "      <td>1.747999e+08</td>\n",
       "      <td>1.385749e+09</td>\n",
       "    </tr>\n",
       "  </tbody>\n",
       "</table>\n",
       "</div>"
      ],
      "text/plain": [
       "   popularity     budget     revenue                original_title  \\\n",
       "0   32.985763  150000000  1513528810                Jurassic World   \n",
       "1   28.419936  150000000   378436354            Mad Max: Fury Road   \n",
       "2   13.112507  110000000   295238201                     Insurgent   \n",
       "3   11.173104  200000000  2068178225  Star Wars: The Force Awakens   \n",
       "4    9.335014  190000000  1506249360                     Furious 7   \n",
       "\n",
       "                                                cast          director  \\\n",
       "0  Chris Pratt|Bryce Dallas Howard|Irrfan Khan|Vi...   Colin Trevorrow   \n",
       "1  Tom Hardy|Charlize Theron|Hugh Keays-Byrne|Nic...     George Miller   \n",
       "2  Shailene Woodley|Theo James|Kate Winslet|Ansel...  Robert Schwentke   \n",
       "3  Harrison Ford|Mark Hamill|Carrie Fisher|Adam D...       J.J. Abrams   \n",
       "4  Vin Diesel|Paul Walker|Jason Statham|Michelle ...         James Wan   \n",
       "\n",
       "                                            keywords  runtime  \\\n",
       "0  monster|dna|tyrannosaurus rex|velociraptor|island      124   \n",
       "1   future|chase|post-apocalyptic|dystopia|australia      120   \n",
       "2  based on novel|revolution|dystopia|sequel|dyst...      119   \n",
       "3              android|spaceship|jedi|space opera|3d      136   \n",
       "4                car race|speed|revenge|suspense|car      137   \n",
       "\n",
       "                                      genres  \\\n",
       "0  Action|Adventure|Science Fiction|Thriller   \n",
       "1  Action|Adventure|Science Fiction|Thriller   \n",
       "2         Adventure|Science Fiction|Thriller   \n",
       "3   Action|Adventure|Science Fiction|Fantasy   \n",
       "4                      Action|Crime|Thriller   \n",
       "\n",
       "                                production_companies release_date  vote_count  \\\n",
       "0  Universal Studios|Amblin Entertainment|Legenda...   2015-06-09        5562   \n",
       "1  Village Roadshow Pictures|Kennedy Miller Produ...   2015-05-13        6185   \n",
       "2  Summit Entertainment|Mandeville Films|Red Wago...   2015-03-18        2480   \n",
       "3          Lucasfilm|Truenorth Productions|Bad Robot   2015-12-15        5292   \n",
       "4  Universal Pictures|Original Film|Media Rights ...   2015-04-01        2947   \n",
       "\n",
       "   vote_average release_year    budget_adj   revenue_adj  \n",
       "0           6.5         2015  1.379999e+08  1.392446e+09  \n",
       "1           7.1         2015  1.379999e+08  3.481613e+08  \n",
       "2           6.3         2015  1.012000e+08  2.716190e+08  \n",
       "3           7.5         2015  1.839999e+08  1.902723e+09  \n",
       "4           7.3         2015  1.747999e+08  1.385749e+09  "
      ]
     },
     "execution_count": 20,
     "metadata": {},
     "output_type": "execute_result"
    }
   ],
   "source": [
    "df_after_2010 = df.copy()\n",
    "df_after_2010.drop(df_after_2010[df_after_2010.release_year < \"2010\"].index, inplace=True)\n",
    "df_after_2010.head()"
   ]
  },
  {
   "cell_type": "code",
   "execution_count": 21,
   "id": "24a36f7a",
   "metadata": {},
   "outputs": [],
   "source": [
    "df_before_2010[\"final_rev\"] = df_before_2010.revenue\n",
    "df_before_2010[\"final_budget\"] = df_before_2010.budget"
   ]
  },
  {
   "cell_type": "code",
   "execution_count": 22,
   "id": "742c425d",
   "metadata": {},
   "outputs": [],
   "source": [
    "df_after_2010[\"final_rev\"] = df_after_2010.revenue\n",
    "df_after_2010[\"final_budget\"] = df_after_2010.budget"
   ]
  },
  {
   "cell_type": "code",
   "execution_count": 23,
   "id": "0c7a7c26",
   "metadata": {},
   "outputs": [
    {
     "name": "stdout",
     "output_type": "stream",
     "text": [
      "<class 'pandas.core.frame.DataFrame'>\n",
      "Int64Index: 10866 entries, 1329 to 6080\n",
      "Data columns (total 18 columns):\n",
      " #   Column                Non-Null Count  Dtype         \n",
      "---  ------                --------------  -----         \n",
      " 0   popularity            10866 non-null  float64       \n",
      " 1   budget                10866 non-null  int64         \n",
      " 2   revenue               10866 non-null  int64         \n",
      " 3   original_title        10866 non-null  object        \n",
      " 4   cast                  10866 non-null  object        \n",
      " 5   director              10866 non-null  object        \n",
      " 6   keywords              10866 non-null  object        \n",
      " 7   runtime               10866 non-null  int64         \n",
      " 8   genres                10866 non-null  object        \n",
      " 9   production_companies  10866 non-null  object        \n",
      " 10  release_date          10866 non-null  datetime64[ns]\n",
      " 11  vote_count            10866 non-null  int64         \n",
      " 12  vote_average          10866 non-null  float64       \n",
      " 13  release_year          10866 non-null  object        \n",
      " 14  budget_adj            10866 non-null  float64       \n",
      " 15  revenue_adj           10866 non-null  float64       \n",
      " 16  final_rev             10866 non-null  float64       \n",
      " 17  final_budget          10866 non-null  float64       \n",
      "dtypes: datetime64[ns](1), float64(6), int64(4), object(7)\n",
      "memory usage: 1.6+ MB\n"
     ]
    }
   ],
   "source": [
    "new_rows = df_before_2010.append(df_after_2010)\n",
    "df.drop(df.index, inplace=True)\n",
    "df = df.append(new_rows)\n",
    "df.info()"
   ]
  },
  {
   "cell_type": "code",
   "execution_count": 24,
   "id": "0e2b7d54",
   "metadata": {},
   "outputs": [],
   "source": [
    "max_rev = df.final_rev.idxmax()"
   ]
  },
  {
   "cell_type": "code",
   "execution_count": 25,
   "id": "f03a0d21",
   "metadata": {},
   "outputs": [
    {
     "data": {
      "text/plain": [
       "popularity                                                       9.432768\n",
       "budget                                                          237000000\n",
       "revenue                                                        2781505847\n",
       "original_title                                                     Avatar\n",
       "cast                    Sam Worthington|Zoe Saldana|Sigourney Weaver|S...\n",
       "director                                                    James Cameron\n",
       "keywords                culture clash|future|space war|space colony|so...\n",
       "runtime                                                               162\n",
       "genres                           Action|Adventure|Fantasy|Science Fiction\n",
       "production_companies    Ingenious Film Partners|Twentieth Century Fox ...\n",
       "release_date                                          2009-12-10 00:00:00\n",
       "vote_count                                                           8458\n",
       "vote_average                                                          7.1\n",
       "release_year                                                         2009\n",
       "budget_adj                                               240886902.887613\n",
       "revenue_adj                                              2827123750.41189\n",
       "final_rev                                                    2781505847.0\n",
       "final_budget                                                  237000000.0\n",
       "Name: 1386, dtype: object"
      ]
     },
     "execution_count": 25,
     "metadata": {},
     "output_type": "execute_result"
    }
   ],
   "source": [
    "df.loc[max_rev]"
   ]
  },
  {
   "cell_type": "markdown",
   "id": "03ae00f1",
   "metadata": {},
   "source": [
    "The maximum revenue is for \"Avatar\""
   ]
  },
  {
   "cell_type": "markdown",
   "id": "43b61187",
   "metadata": {},
   "source": [
    "# Splitting and exploding columns (\"cast\", \"keywords\", \"genres\", \"production_companies\")"
   ]
  },
  {
   "cell_type": "code",
   "execution_count": 26,
   "id": "655f812b",
   "metadata": {},
   "outputs": [],
   "source": [
    "#splitting function\n",
    "def splitting(df):\n",
    "    return df.str.split(\"|\")"
   ]
  },
  {
   "cell_type": "code",
   "execution_count": 27,
   "id": "594036af",
   "metadata": {},
   "outputs": [],
   "source": [
    "df_cast = df.copy()\n",
    "df_genres = df.copy()\n",
    "df_production_companies = df.copy()"
   ]
  },
  {
   "cell_type": "code",
   "execution_count": 28,
   "id": "81229f54",
   "metadata": {},
   "outputs": [],
   "source": [
    "df_cast.cast = splitting(df[\"cast\"])\n",
    "df_genres.genres = splitting(df.genres)\n",
    "df_production_companies.production_companies = splitting(df[\"production_companies\"])"
   ]
  },
  {
   "cell_type": "code",
   "execution_count": 29,
   "id": "7834c54e",
   "metadata": {},
   "outputs": [],
   "source": [
    "df_cast = df_cast.explode(\"cast\", ignore_index=True)\n",
    "df_genres = df_genres.explode(\"genres\", ignore_index=True)\n",
    "df_production_companies = df_production_companies.explode(\"production_companies\", ignore_index=True)"
   ]
  },
  {
   "cell_type": "code",
   "execution_count": 30,
   "id": "776f0c95",
   "metadata": {},
   "outputs": [
    {
     "data": {
      "text/html": [
       "<div>\n",
       "<style scoped>\n",
       "    .dataframe tbody tr th:only-of-type {\n",
       "        vertical-align: middle;\n",
       "    }\n",
       "\n",
       "    .dataframe tbody tr th {\n",
       "        vertical-align: top;\n",
       "    }\n",
       "\n",
       "    .dataframe thead th {\n",
       "        text-align: right;\n",
       "    }\n",
       "</style>\n",
       "<table border=\"1\" class=\"dataframe\">\n",
       "  <thead>\n",
       "    <tr style=\"text-align: right;\">\n",
       "      <th></th>\n",
       "      <th>popularity</th>\n",
       "      <th>budget</th>\n",
       "      <th>revenue</th>\n",
       "      <th>original_title</th>\n",
       "      <th>cast</th>\n",
       "      <th>director</th>\n",
       "      <th>keywords</th>\n",
       "      <th>runtime</th>\n",
       "      <th>genres</th>\n",
       "      <th>production_companies</th>\n",
       "      <th>release_date</th>\n",
       "      <th>vote_count</th>\n",
       "      <th>vote_average</th>\n",
       "      <th>release_year</th>\n",
       "      <th>budget_adj</th>\n",
       "      <th>revenue_adj</th>\n",
       "      <th>final_rev</th>\n",
       "      <th>final_budget</th>\n",
       "    </tr>\n",
       "  </thead>\n",
       "  <tbody>\n",
       "    <tr>\n",
       "      <th>26978</th>\n",
       "      <td>0.002648</td>\n",
       "      <td>0</td>\n",
       "      <td>0</td>\n",
       "      <td>Atlantic Rim</td>\n",
       "      <td>Graham Greene|David Chokachi|Jackie Moore|Nico...</td>\n",
       "      <td>Jared Cohn</td>\n",
       "      <td>navy|underwater threat|robot suits|giant monsters</td>\n",
       "      <td>85</td>\n",
       "      <td>Science Fiction</td>\n",
       "      <td>The Asylum|Tiki Terrors</td>\n",
       "      <td>2013-07-09</td>\n",
       "      <td>21</td>\n",
       "      <td>2.2</td>\n",
       "      <td>2013</td>\n",
       "      <td>0.0</td>\n",
       "      <td>0.0</td>\n",
       "      <td>0.0</td>\n",
       "      <td>0.0</td>\n",
       "    </tr>\n",
       "    <tr>\n",
       "      <th>26979</th>\n",
       "      <td>0.002647</td>\n",
       "      <td>0</td>\n",
       "      <td>0</td>\n",
       "      <td>Trophy Kids</td>\n",
       "      <td>UNKOWN</td>\n",
       "      <td>Chris Bell</td>\n",
       "      <td>UNKOWN</td>\n",
       "      <td>107</td>\n",
       "      <td>Documentary</td>\n",
       "      <td>UNKOWN</td>\n",
       "      <td>2013-12-04</td>\n",
       "      <td>10</td>\n",
       "      <td>7.8</td>\n",
       "      <td>2013</td>\n",
       "      <td>0.0</td>\n",
       "      <td>0.0</td>\n",
       "      <td>0.0</td>\n",
       "      <td>0.0</td>\n",
       "    </tr>\n",
       "    <tr>\n",
       "      <th>26980</th>\n",
       "      <td>0.002165</td>\n",
       "      <td>0</td>\n",
       "      <td>0</td>\n",
       "      <td>The Sound of Music Live!</td>\n",
       "      <td>Laura Benanti|Stephen Moyer|Carrie Underwood|C...</td>\n",
       "      <td>Beth McCarthy-Miller|Rob Ashford</td>\n",
       "      <td>musical|live|woman director</td>\n",
       "      <td>180</td>\n",
       "      <td>Drama</td>\n",
       "      <td>UNKOWN</td>\n",
       "      <td>2013-12-05</td>\n",
       "      <td>11</td>\n",
       "      <td>5.6</td>\n",
       "      <td>2013</td>\n",
       "      <td>0.0</td>\n",
       "      <td>0.0</td>\n",
       "      <td>0.0</td>\n",
       "      <td>0.0</td>\n",
       "    </tr>\n",
       "    <tr>\n",
       "      <th>26981</th>\n",
       "      <td>0.002165</td>\n",
       "      <td>0</td>\n",
       "      <td>0</td>\n",
       "      <td>The Sound of Music Live!</td>\n",
       "      <td>Laura Benanti|Stephen Moyer|Carrie Underwood|C...</td>\n",
       "      <td>Beth McCarthy-Miller|Rob Ashford</td>\n",
       "      <td>musical|live|woman director</td>\n",
       "      <td>180</td>\n",
       "      <td>Family</td>\n",
       "      <td>UNKOWN</td>\n",
       "      <td>2013-12-05</td>\n",
       "      <td>11</td>\n",
       "      <td>5.6</td>\n",
       "      <td>2013</td>\n",
       "      <td>0.0</td>\n",
       "      <td>0.0</td>\n",
       "      <td>0.0</td>\n",
       "      <td>0.0</td>\n",
       "    </tr>\n",
       "    <tr>\n",
       "      <th>26982</th>\n",
       "      <td>0.000620</td>\n",
       "      <td>0</td>\n",
       "      <td>0</td>\n",
       "      <td>G.B.F.</td>\n",
       "      <td>Michael J. Willett|Paul Iacono|Sasha Pieterse|...</td>\n",
       "      <td>Darren Stein</td>\n",
       "      <td>gay|gay kiss|coming out|high school|friends</td>\n",
       "      <td>92</td>\n",
       "      <td>Comedy</td>\n",
       "      <td>School Pictures|Parting Shots Media|Logolite E...</td>\n",
       "      <td>2013-10-20</td>\n",
       "      <td>82</td>\n",
       "      <td>6.1</td>\n",
       "      <td>2013</td>\n",
       "      <td>0.0</td>\n",
       "      <td>0.0</td>\n",
       "      <td>0.0</td>\n",
       "      <td>0.0</td>\n",
       "    </tr>\n",
       "  </tbody>\n",
       "</table>\n",
       "</div>"
      ],
      "text/plain": [
       "       popularity  budget  revenue            original_title  \\\n",
       "26978    0.002648       0        0              Atlantic Rim   \n",
       "26979    0.002647       0        0               Trophy Kids   \n",
       "26980    0.002165       0        0  The Sound of Music Live!   \n",
       "26981    0.002165       0        0  The Sound of Music Live!   \n",
       "26982    0.000620       0        0                    G.B.F.   \n",
       "\n",
       "                                                    cast  \\\n",
       "26978  Graham Greene|David Chokachi|Jackie Moore|Nico...   \n",
       "26979                                             UNKOWN   \n",
       "26980  Laura Benanti|Stephen Moyer|Carrie Underwood|C...   \n",
       "26981  Laura Benanti|Stephen Moyer|Carrie Underwood|C...   \n",
       "26982  Michael J. Willett|Paul Iacono|Sasha Pieterse|...   \n",
       "\n",
       "                               director  \\\n",
       "26978                        Jared Cohn   \n",
       "26979                        Chris Bell   \n",
       "26980  Beth McCarthy-Miller|Rob Ashford   \n",
       "26981  Beth McCarthy-Miller|Rob Ashford   \n",
       "26982                      Darren Stein   \n",
       "\n",
       "                                                keywords  runtime  \\\n",
       "26978  navy|underwater threat|robot suits|giant monsters       85   \n",
       "26979                                             UNKOWN      107   \n",
       "26980                        musical|live|woman director      180   \n",
       "26981                        musical|live|woman director      180   \n",
       "26982        gay|gay kiss|coming out|high school|friends       92   \n",
       "\n",
       "                genres                               production_companies  \\\n",
       "26978  Science Fiction                            The Asylum|Tiki Terrors   \n",
       "26979      Documentary                                             UNKOWN   \n",
       "26980            Drama                                             UNKOWN   \n",
       "26981           Family                                             UNKOWN   \n",
       "26982           Comedy  School Pictures|Parting Shots Media|Logolite E...   \n",
       "\n",
       "      release_date  vote_count  vote_average release_year  budget_adj  \\\n",
       "26978   2013-07-09          21           2.2         2013         0.0   \n",
       "26979   2013-12-04          10           7.8         2013         0.0   \n",
       "26980   2013-12-05          11           5.6         2013         0.0   \n",
       "26981   2013-12-05          11           5.6         2013         0.0   \n",
       "26982   2013-10-20          82           6.1         2013         0.0   \n",
       "\n",
       "       revenue_adj  final_rev  final_budget  \n",
       "26978          0.0        0.0           0.0  \n",
       "26979          0.0        0.0           0.0  \n",
       "26980          0.0        0.0           0.0  \n",
       "26981          0.0        0.0           0.0  \n",
       "26982          0.0        0.0           0.0  "
      ]
     },
     "execution_count": 30,
     "metadata": {},
     "output_type": "execute_result"
    }
   ],
   "source": [
    "df_genres.tail()"
   ]
  },
  {
   "cell_type": "code",
   "execution_count": null,
   "id": "89b698e8",
   "metadata": {},
   "outputs": [],
   "source": []
  },
  {
   "cell_type": "markdown",
   "id": "5a86eb9e",
   "metadata": {},
   "source": [
    "# The most popular genre year by year"
   ]
  },
  {
   "cell_type": "code",
   "execution_count": 31,
   "id": "09fbd2dd",
   "metadata": {
    "scrolled": false
   },
   "outputs": [
    {
     "data": {
      "text/plain": [
       "genres   release_year\n",
       "Action   1960            1.872132\n",
       "         1961            0.754548\n",
       "         1962            3.170651\n",
       "         1963            2.508235\n",
       "         1964            3.153791\n",
       "                           ...   \n",
       "Western  2011            1.640256\n",
       "         2012            5.944518\n",
       "         2013            1.214510\n",
       "         2014            1.211609\n",
       "         2015            9.110700\n",
       "Name: popularity, Length: 1064, dtype: float64"
      ]
     },
     "execution_count": 31,
     "metadata": {},
     "output_type": "execute_result"
    }
   ],
   "source": [
    "df_genres.groupby([\"genres\",\"release_year\"]).popularity.max()"
   ]
  },
  {
   "cell_type": "code",
   "execution_count": null,
   "id": "64f35905",
   "metadata": {},
   "outputs": [],
   "source": []
  },
  {
   "cell_type": "markdown",
   "id": "ef77c252",
   "metadata": {},
   "source": [
    "# The rate of movie production by years"
   ]
  },
  {
   "cell_type": "code",
   "execution_count": 41,
   "id": "7d6f2bf9",
   "metadata": {},
   "outputs": [
    {
     "data": {
      "image/png": "[encoded data removed]",
      "text/plain": [
       "<Figure size 1440x1440 with 1 Axes>"
      ]
     },
     "metadata": {
      "needs_background": "light"
     },
     "output_type": "display_data"
    }
   ],
   "source": [
    "df.release_year.hist(figsize=(20,20),);\n",
    "plt.title(\"Rate of movie production\")\n",
    "plt.xlabel(\"Years\")\n",
    "plt.ylabel(\"Number of movies\")\n",
    "plt.legend(\"Movies\")\n",
    "plt.show()"
   ]
  },
  {
   "cell_type": "code",
   "execution_count": null,
   "id": "74f89a72",
   "metadata": {},
   "outputs": [],
   "source": []
  },
  {
   "cell_type": "markdown",
   "id": "43a5424b",
   "metadata": {},
   "source": [
    "# The relation between the revenue and the budget"
   ]
  },
  {
   "cell_type": "code",
   "execution_count": 43,
   "id": "61bf99d6",
   "metadata": {},
   "outputs": [
    {
     "data": {
      "image/png": "[encoded data removed]",
      "text/plain": [
       "<Figure size 360x360 with 1 Axes>"
      ]
     },
     "metadata": {
      "needs_background": "light"
     },
     "output_type": "display_data"
    }
   ],
   "source": [
    "df.plot(y=\"final_rev\", x=\"final_budget\", kind=\"scatter\", figsize=(5,5));\n",
    "plt.title(\"The relation between final budget and final revenue\")\n",
    "plt.ylabel(\"Final Revenue\")\n",
    "plt.xlabel(\"Final Budget\")\n",
    "plt.show()"
   ]
  },
  {
   "cell_type": "markdown",
   "id": "0ec74f92",
   "metadata": {},
   "source": [
    "The relation between both of the is near to strong positiv relation"
   ]
  },
  {
   "cell_type": "code",
   "execution_count": null,
   "id": "67b47755",
   "metadata": {},
   "outputs": [],
   "source": []
  },
  {
   "cell_type": "markdown",
   "id": "8fa02a7b",
   "metadata": {},
   "source": [
    "# The relation betweeen vote counts and popularity"
   ]
  },
  {
   "cell_type": "code",
   "execution_count": 44,
   "id": "d57da3f4",
   "metadata": {},
   "outputs": [
    {
     "data": {
      "image/png": "[encoded data removed]",
      "text/plain": [
       "<Figure size 432x288 with 1 Axes>"
      ]
     },
     "metadata": {
      "needs_background": "light"
     },
     "output_type": "display_data"
    }
   ],
   "source": [
    "df.plot(y=\"vote_count\", x=\"popularity\", kind=\"scatter\");\n",
    "plt.title(\"The relation between popularity and number of votes\")\n",
    "plt.ylabel(\"Number of Votes\")\n",
    "plt.xlabel(\"Popularity\")\n",
    "plt.show()"
   ]
  },
  {
   "cell_type": "code",
   "execution_count": null,
   "id": "537a09c3",
   "metadata": {},
   "outputs": [],
   "source": []
  },
  {
   "cell_type": "markdown",
   "id": "38ca04bf",
   "metadata": {},
   "source": [
    "# Correlation of the data"
   ]
  },
  {
   "cell_type": "code",
   "execution_count": 35,
   "id": "cd059d93",
   "metadata": {},
   "outputs": [
    {
     "data": {
      "text/html": [
       "<div>\n",
       "<style scoped>\n",
       "    .dataframe tbody tr th:only-of-type {\n",
       "        vertical-align: middle;\n",
       "    }\n",
       "\n",
       "    .dataframe tbody tr th {\n",
       "        vertical-align: top;\n",
       "    }\n",
       "\n",
       "    .dataframe thead th {\n",
       "        text-align: right;\n",
       "    }\n",
       "</style>\n",
       "<table border=\"1\" class=\"dataframe\">\n",
       "  <thead>\n",
       "    <tr style=\"text-align: right;\">\n",
       "      <th></th>\n",
       "      <th>popularity</th>\n",
       "      <th>budget</th>\n",
       "      <th>revenue</th>\n",
       "      <th>runtime</th>\n",
       "      <th>vote_count</th>\n",
       "      <th>vote_average</th>\n",
       "      <th>budget_adj</th>\n",
       "      <th>revenue_adj</th>\n",
       "      <th>final_rev</th>\n",
       "      <th>final_budget</th>\n",
       "    </tr>\n",
       "  </thead>\n",
       "  <tbody>\n",
       "    <tr>\n",
       "      <th>popularity</th>\n",
       "      <td>1.000000</td>\n",
       "      <td>0.545472</td>\n",
       "      <td>0.663358</td>\n",
       "      <td>0.139033</td>\n",
       "      <td>0.800828</td>\n",
       "      <td>0.209511</td>\n",
       "      <td>0.513550</td>\n",
       "      <td>0.609083</td>\n",
       "      <td>0.663358</td>\n",
       "      <td>0.545472</td>\n",
       "    </tr>\n",
       "    <tr>\n",
       "      <th>budget</th>\n",
       "      <td>0.545472</td>\n",
       "      <td>1.000000</td>\n",
       "      <td>0.734901</td>\n",
       "      <td>0.191283</td>\n",
       "      <td>0.632702</td>\n",
       "      <td>0.081014</td>\n",
       "      <td>0.968963</td>\n",
       "      <td>0.622505</td>\n",
       "      <td>0.734901</td>\n",
       "      <td>1.000000</td>\n",
       "    </tr>\n",
       "    <tr>\n",
       "      <th>revenue</th>\n",
       "      <td>0.663358</td>\n",
       "      <td>0.734901</td>\n",
       "      <td>1.000000</td>\n",
       "      <td>0.162838</td>\n",
       "      <td>0.791175</td>\n",
       "      <td>0.172564</td>\n",
       "      <td>0.706427</td>\n",
       "      <td>0.919110</td>\n",
       "      <td>1.000000</td>\n",
       "      <td>0.734901</td>\n",
       "    </tr>\n",
       "    <tr>\n",
       "      <th>runtime</th>\n",
       "      <td>0.139033</td>\n",
       "      <td>0.191283</td>\n",
       "      <td>0.162838</td>\n",
       "      <td>1.000000</td>\n",
       "      <td>0.163278</td>\n",
       "      <td>0.156835</td>\n",
       "      <td>0.221114</td>\n",
       "      <td>0.175676</td>\n",
       "      <td>0.162838</td>\n",
       "      <td>0.191283</td>\n",
       "    </tr>\n",
       "    <tr>\n",
       "      <th>vote_count</th>\n",
       "      <td>0.800828</td>\n",
       "      <td>0.632702</td>\n",
       "      <td>0.791175</td>\n",
       "      <td>0.163278</td>\n",
       "      <td>1.000000</td>\n",
       "      <td>0.253823</td>\n",
       "      <td>0.587051</td>\n",
       "      <td>0.707942</td>\n",
       "      <td>0.791175</td>\n",
       "      <td>0.632702</td>\n",
       "    </tr>\n",
       "    <tr>\n",
       "      <th>vote_average</th>\n",
       "      <td>0.209511</td>\n",
       "      <td>0.081014</td>\n",
       "      <td>0.172564</td>\n",
       "      <td>0.156835</td>\n",
       "      <td>0.253823</td>\n",
       "      <td>1.000000</td>\n",
       "      <td>0.093039</td>\n",
       "      <td>0.193085</td>\n",
       "      <td>0.172564</td>\n",
       "      <td>0.081014</td>\n",
       "    </tr>\n",
       "    <tr>\n",
       "      <th>budget_adj</th>\n",
       "      <td>0.513550</td>\n",
       "      <td>0.968963</td>\n",
       "      <td>0.706427</td>\n",
       "      <td>0.221114</td>\n",
       "      <td>0.587051</td>\n",
       "      <td>0.093039</td>\n",
       "      <td>1.000000</td>\n",
       "      <td>0.646607</td>\n",
       "      <td>0.706427</td>\n",
       "      <td>0.968963</td>\n",
       "    </tr>\n",
       "    <tr>\n",
       "      <th>revenue_adj</th>\n",
       "      <td>0.609083</td>\n",
       "      <td>0.622505</td>\n",
       "      <td>0.919110</td>\n",
       "      <td>0.175676</td>\n",
       "      <td>0.707942</td>\n",
       "      <td>0.193085</td>\n",
       "      <td>0.646607</td>\n",
       "      <td>1.000000</td>\n",
       "      <td>0.919110</td>\n",
       "      <td>0.622505</td>\n",
       "    </tr>\n",
       "    <tr>\n",
       "      <th>final_rev</th>\n",
       "      <td>0.663358</td>\n",
       "      <td>0.734901</td>\n",
       "      <td>1.000000</td>\n",
       "      <td>0.162838</td>\n",
       "      <td>0.791175</td>\n",
       "      <td>0.172564</td>\n",
       "      <td>0.706427</td>\n",
       "      <td>0.919110</td>\n",
       "      <td>1.000000</td>\n",
       "      <td>0.734901</td>\n",
       "    </tr>\n",
       "    <tr>\n",
       "      <th>final_budget</th>\n",
       "      <td>0.545472</td>\n",
       "      <td>1.000000</td>\n",
       "      <td>0.734901</td>\n",
       "      <td>0.191283</td>\n",
       "      <td>0.632702</td>\n",
       "      <td>0.081014</td>\n",
       "      <td>0.968963</td>\n",
       "      <td>0.622505</td>\n",
       "      <td>0.734901</td>\n",
       "      <td>1.000000</td>\n",
       "    </tr>\n",
       "  </tbody>\n",
       "</table>\n",
       "</div>"
      ],
      "text/plain": [
       "              popularity    budget   revenue   runtime  vote_count  \\\n",
       "popularity      1.000000  0.545472  0.663358  0.139033    0.800828   \n",
       "budget          0.545472  1.000000  0.734901  0.191283    0.632702   \n",
       "revenue         0.663358  0.734901  1.000000  0.162838    0.791175   \n",
       "runtime         0.139033  0.191283  0.162838  1.000000    0.163278   \n",
       "vote_count      0.800828  0.632702  0.791175  0.163278    1.000000   \n",
       "vote_average    0.209511  0.081014  0.172564  0.156835    0.253823   \n",
       "budget_adj      0.513550  0.968963  0.706427  0.221114    0.587051   \n",
       "revenue_adj     0.609083  0.622505  0.919110  0.175676    0.707942   \n",
       "final_rev       0.663358  0.734901  1.000000  0.162838    0.791175   \n",
       "final_budget    0.545472  1.000000  0.734901  0.191283    0.632702   \n",
       "\n",
       "              vote_average  budget_adj  revenue_adj  final_rev  final_budget  \n",
       "popularity        0.209511    0.513550     0.609083   0.663358      0.545472  \n",
       "budget            0.081014    0.968963     0.622505   0.734901      1.000000  \n",
       "revenue           0.172564    0.706427     0.919110   1.000000      0.734901  \n",
       "runtime           0.156835    0.221114     0.175676   0.162838      0.191283  \n",
       "vote_count        0.253823    0.587051     0.707942   0.791175      0.632702  \n",
       "vote_average      1.000000    0.093039     0.193085   0.172564      0.081014  \n",
       "budget_adj        0.093039    1.000000     0.646607   0.706427      0.968963  \n",
       "revenue_adj       0.193085    0.646607     1.000000   0.919110      0.622505  \n",
       "final_rev         0.172564    0.706427     0.919110   1.000000      0.734901  \n",
       "final_budget      0.081014    0.968963     0.622505   0.734901      1.000000  "
      ]
     },
     "execution_count": 35,
     "metadata": {},
     "output_type": "execute_result"
    }
   ],
   "source": [
    "df.corr()"
   ]
  },
  {
   "cell_type": "code",
   "execution_count": null,
   "id": "f8b6560d",
   "metadata": {},
   "outputs": [],
   "source": []
  },
  {
   "cell_type": "markdown",
   "id": "07f3282d",
   "metadata": {},
   "source": [
    "# The movie with the highest vote average"
   ]
  },
  {
   "cell_type": "code",
   "execution_count": 36,
   "id": "81db7704",
   "metadata": {},
   "outputs": [],
   "source": [
    "highest_avrg_movie_idx = df.vote_average.idxmax()"
   ]
  },
  {
   "cell_type": "code",
   "execution_count": 37,
   "id": "9bb6d909",
   "metadata": {},
   "outputs": [
    {
     "data": {
      "text/plain": [
       "popularity                                                       0.006925\n",
       "budget                                                                  0\n",
       "revenue                                                                 0\n",
       "original_title                              The Story of Film: An Odyssey\n",
       "cast                    Mark Cousins|Jean-Michel Frodon|Cari Beauchamp...\n",
       "director                                                     Mark Cousins\n",
       "keywords                cinema|nouvelle vague|hindi cinema|cinema novo...\n",
       "runtime                                                               900\n",
       "genres                                                        Documentary\n",
       "production_companies                                               UNKOWN\n",
       "release_date                                          2011-09-03 00:00:00\n",
       "vote_count                                                             14\n",
       "vote_average                                                          9.2\n",
       "release_year                                                         2011\n",
       "budget_adj                                                            0.0\n",
       "revenue_adj                                                           0.0\n",
       "final_rev                                                             0.0\n",
       "final_budget                                                          0.0\n",
       "Name: 3894, dtype: object"
      ]
     },
     "execution_count": 37,
     "metadata": {},
     "output_type": "execute_result"
    }
   ],
   "source": [
    "df.loc[highest_avrg_movie_idx]"
   ]
  },
  {
   "cell_type": "markdown",
   "id": "b25f41bd",
   "metadata": {},
   "source": [
    "The highest vote average movie is \"The Story of Film: An Odyssey\""
   ]
  },
  {
   "cell_type": "raw",
   "id": "ead5385f",
   "metadata": {},
   "source": []
  },
  {
   "cell_type": "markdown",
   "id": "a0f884a5",
   "metadata": {},
   "source": [
    "# The most actress did movies"
   ]
  },
  {
   "cell_type": "code",
   "execution_count": 38,
   "id": "98272e4c",
   "metadata": {},
   "outputs": [
    {
     "data": {
      "text/plain": [
       "UNKOWN               76\n",
       "Robert De Niro       72\n",
       "Samuel L. Jackson    71\n",
       "Bruce Willis         62\n",
       "Nicolas Cage         61\n",
       "                     ..\n",
       "Dylan Purcell         1\n",
       "Selina Giles          1\n",
       "Timyra-Joi Beatty     1\n",
       "Gus Rose              1\n",
       "Erik Thomson          1\n",
       "Name: cast, Length: 19027, dtype: int64"
      ]
     },
     "execution_count": 38,
     "metadata": {},
     "output_type": "execute_result"
    }
   ],
   "source": [
    "df_cast.cast.value_counts()"
   ]
  },
  {
   "cell_type": "markdown",
   "id": "dd387da6",
   "metadata": {},
   "source": [
    "In this data the most actress acted in movies is \"Robert De Niro\" who acted in 72 movie"
   ]
  },
  {
   "cell_type": "code",
   "execution_count": null,
   "id": "63c2b617",
   "metadata": {},
   "outputs": [],
   "source": []
  },
  {
   "cell_type": "markdown",
   "id": "81c4e80a",
   "metadata": {},
   "source": [
    "# The most production company produced movies"
   ]
  },
  {
   "cell_type": "code",
   "execution_count": 39,
   "id": "643bf287",
   "metadata": {},
   "outputs": [
    {
     "data": {
      "text/plain": [
       "UNKOWN                                      1030\n",
       "Universal Pictures                           522\n",
       "Warner Bros.                                 509\n",
       "Paramount Pictures                           431\n",
       "Twentieth Century Fox Film Corporation       282\n",
       "                                            ... \n",
       "Alliance                                       1\n",
       "Internationale Filmproduktion Prometheus       1\n",
       "Golden Port Productions Ltd.                   1\n",
       "Milchan / Van Eyssen                           1\n",
       "Virgin Vision                                  1\n",
       "Name: production_companies, Length: 7880, dtype: int64"
      ]
     },
     "execution_count": 39,
     "metadata": {},
     "output_type": "execute_result"
    }
   ],
   "source": [
    "df_production_companies.production_companies.value_counts()"
   ]
  },
  {
   "cell_type": "markdown",
   "id": "f1b49b92",
   "metadata": {},
   "source": [
    "In this data the most production company produced movies is \"Universal Pictures\" who produced 522 movie"
   ]
  },
  {
   "cell_type": "code",
   "execution_count": null,
   "id": "da40ed4e",
   "metadata": {},
   "outputs": [],
   "source": []
  },
  {
   "cell_type": "markdown",
   "id": "7add4170",
   "metadata": {},
   "source": [
    "# The most genre produced"
   ]
  },
  {
   "cell_type": "code",
   "execution_count": 40,
   "id": "a4f5ba54",
   "metadata": {},
   "outputs": [
    {
     "data": {
      "text/plain": [
       "Drama              4761\n",
       "Comedy             3793\n",
       "Thriller           2908\n",
       "Action             2385\n",
       "Romance            1712\n",
       "Horror             1637\n",
       "Adventure          1471\n",
       "Crime              1355\n",
       "Family             1231\n",
       "Science Fiction    1230\n",
       "Fantasy             916\n",
       "Mystery             810\n",
       "Animation           699\n",
       "Documentary         520\n",
       "Music               408\n",
       "History             334\n",
       "War                 270\n",
       "Foreign             188\n",
       "TV Movie            167\n",
       "Western             165\n",
       "UNKOWN               23\n",
       "Name: genres, dtype: int64"
      ]
     },
     "execution_count": 40,
     "metadata": {},
     "output_type": "execute_result"
    }
   ],
   "source": [
    "df_genres.genres.value_counts()"
   ]
  },
  {
   "cell_type": "markdown",
   "id": "def9bfc1",
   "metadata": {},
   "source": [
    "Drama is the most produced genre "
   ]
  },
  {
   "cell_type": "code",
   "execution_count": null,
   "id": "3b42dcd9",
   "metadata": {},
   "outputs": [],
   "source": []
  },
  {
   "cell_type": "markdown",
   "id": "e485f93c",
   "metadata": {},
   "source": [
    "# Conclusion"
   ]
  },
  {
   "cell_type": "markdown",
   "id": "4e783969",
   "metadata": {},
   "source": [
    "From the given data:\n",
    " 1- There is a strong positive relation between the budget and the revenue so as the the budget increases the revenue     also increases but it is not 1:1 relation.\n",
    " \n",
    " 2- The most produced genre is Drama.\n",
    " \n",
    " 3- The highest vote average movie is \"The Story of Film: An Odyssey\".\n",
    " \n",
    "Limitations:\n",
    " 1- One from limitions i have faced is existing of null values for many production companies and directors and i        s  replaced all null values with \"UKNOWN\" value and excluded them from my statistical calculations\n",
    " \n",
    " 2- Another limition i have faced that alot of actress names and production companies are put in the same cell so i      splitted all of them then exploded them into many rows and assigned them with the rest of the dataframe to a new      copy of the main dataframe"
   ]
  }
 ],
 "metadata": {
  "kernelspec": {
   "display_name": "Python 3",
   "language": "python",
   "name": "python3"
  },
  "language_info": {
   "codemirror_mode": {
    "name": "ipython",
    "version": 3
   },
   "file_extension": ".py",
   "mimetype": "text/x-python",
   "name": "python",
   "nbconvert_exporter": "python",
   "pygments_lexer": "ipython3",
   "version": "3.8.8"
  }
 },
 "nbformat": 4,
 "nbformat_minor": 5
}
